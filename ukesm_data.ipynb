{
 "cells": [
  {
   "cell_type": "code",
   "execution_count": 7,
   "metadata": {},
   "outputs": [],
   "source": [
    "from netCDF4 import Dataset\n",
    "import matplotlib.pyplot as plt\n",
    "import cartopy.crs as ccrs\n",
    "import numpy as np\n",
    "\n",
    "%matplotlib widget"
   ]
  },
  {
   "cell_type": "markdown",
   "metadata": {},
   "source": [
    "- data/ukesm/500zg_1x1_1979-2019_12hr_NHML.nc\n",
    "  from: 1970-01-09\n",
    "  to: 1970-01-13 (?)\n",
    "  interval: 12s (?)\n",
    "  dim: (7544, 56, 360)\n",
    "  variable: zg (geopotential height)\n",
    "  max: 6046.5703\n",
    "  min: 4862.276\n",
    "- data/ukesm/500zg_1x1_1979-2019_12hr_NHML_daymean.nc\n",
    "  from: 1970-01-09 (696126)\n",
    "  to: 1970-01-13 (?) (1048950)\n",
    "  interval: 12s (?)\n",
    "  dim: (3772, 56, 360)\n",
    "  variable: zg (geopotential height)\n",
    "  max: 6043.1045\n",
    "  min: 4880.959\n",
    "- data/ukesm/500zg_Amon_UKESM1-0LL_picControl_r1i1p1f2_gn_196001-305912_r180x91mt_JJA.nc\n",
    "- data/ukesm/500zg_day_UKESM1-0-LL_piControl_r1i1p1f2_gn_19600101-20601230_NHML_JJAextd.nc\n",
    "- data/ukesm/500zg_JJA_1x1_1979-2019_daymean_LTDManom_EurAR5_dtrnd_wrttime.nc\n",
    "- data/ukesm/psl_day_UKESM1-0-LL_piControl_r1i1p1f2_gn_19600101-20601230_NHML_JJAextd.nc\n",
    "- data/ukesm/pv_350pt_era5_1979-2019_1x1_tot_3hr_daymean_ydayavg_LTDManom_invlat.nc"
   ]
  },
  {
   "cell_type": "code",
   "execution_count": 8,
   "metadata": {},
   "outputs": [],
   "source": [
    "ukesm_data_full = Dataset('data/ukesm/500zg_1x1_1979-2019_12hr_NHML.nc', mode='r')\n",
    "ukesm_data_daymean = Dataset('data/ukesm/500zg_1x1_1979-2019_12hr_NHML_daymean.nc', mode='r')\n",
    "ukesm_data_amon = Dataset('data/ukesm/500zg_Amon_UKESM1-0LL_picControl_r1i1p1f2_gn_196001-305912_r180x91mt_JJA.nc', mode='r')"
   ]
  },
  {
   "cell_type": "code",
   "execution_count": 9,
   "metadata": {},
   "outputs": [
    {
     "name": "stdout",
     "output_type": "stream",
     "text": [
      "<class 'netCDF4._netCDF4.Dataset'>\n",
      "root group (NETCDF4 data model, file format HDF5):\n",
      "    CDI: Climate Data Interface version 2.0.4 (https://mpimet.mpg.de/cdi)\n",
      "    Conventions: CF-1.6\n",
      "    frequency: day\n",
      "    history: Fri Sep 22 18:17:40 2023: cdo daymean 500zg_1x1_1979-2019_12hr_NHML.nc 500zg_1x1_1979-2019_12hr_NHML_daymean.nc\n",
      "    CDO: Climate Data Operators version 2.0.4 (https://mpimet.mpg.de/cdo)\n",
      "    dimensions(sizes): time(3772), bnds(2), longitude(360), latitude(56)\n",
      "    variables(dimensions): int32 time(time), float64 time_bnds(time, bnds), float32 longitude(longitude), float32 latitude(latitude), float32 zg(time, latitude, longitude)\n",
      "    groups: \n",
      "{'time': <class 'netCDF4._netCDF4.Variable'>\n",
      "int32 time(time)\n",
      "    standard_name: time\n",
      "    long_name: time\n",
      "    bounds: time_bnds\n",
      "    units: hours since 1900-01-01\n",
      "    calendar: gregorian\n",
      "    axis: T\n",
      "unlimited dimensions: time\n",
      "current shape = (3772,)\n",
      "filling off, 'time_bnds': <class 'netCDF4._netCDF4.Variable'>\n",
      "float64 time_bnds(time, bnds)\n",
      "unlimited dimensions: time\n",
      "current shape = (3772, 2)\n",
      "filling off, 'longitude': <class 'netCDF4._netCDF4.Variable'>\n",
      "float32 longitude(longitude)\n",
      "    standard_name: longitude\n",
      "    long_name: longitude\n",
      "    units: degrees_east\n",
      "    axis: X\n",
      "unlimited dimensions: \n",
      "current shape = (360,)\n",
      "filling off, 'latitude': <class 'netCDF4._netCDF4.Variable'>\n",
      "float32 latitude(latitude)\n",
      "    standard_name: latitude\n",
      "    long_name: latitude\n",
      "    units: degrees_north\n",
      "    axis: Y\n",
      "unlimited dimensions: \n",
      "current shape = (56,)\n",
      "filling off, 'zg': <class 'netCDF4._netCDF4.Variable'>\n",
      "float32 zg(time, latitude, longitude)\n",
      "    _FillValue: nan\n",
      "    missing_value: nan\n",
      "    cell_methods: time: mean\n",
      "unlimited dimensions: time\n",
      "current shape = (3772, 56, 360)\n",
      "filling off}\n",
      "['1970-01-13 04:22:36']\n",
      "['1970-01-09 02:22:00']\n",
      "['1970-01-09 02:22:00', '1970-01-09 02:22:12', '1970-01-09 02:22:24', '1970-01-09 02:22:36', '1970-01-09 02:22:48', '1970-01-09 02:23:00', '1970-01-09 02:23:12', '1970-01-09 02:23:24', '1970-01-09 02:23:36', '1970-01-09 02:23:48']\n",
      "['1970-01-09 01:22:00', '1970-01-09 01:22:12', '1970-01-09 01:22:24', '1970-01-09 01:22:36', '1970-01-09 01:22:48', '1970-01-09 01:23:00', '1970-01-09 01:23:12', '1970-01-09 01:23:24', '1970-01-09 01:23:36', '1970-01-09 01:23:48']\n",
      "[696126 696150 696174 696198 696222 696246 696270 696294 696318 696342]\n",
      "1048950\n",
      "696126\n",
      "['2049-05-31 02:00:00', '2049-05-31 14:00:00', '2049-06-01 02:00:00', '2049-06-01 14:00:00', '2049-06-02 02:00:00', '2049-06-02 14:00:00', '2049-06-03 02:00:00', '2049-06-03 14:00:00', '2049-06-04 02:00:00', '2049-06-04 14:00:00']\n",
      "5783.734\n",
      "5930.4287\n",
      "5930.4287\n",
      "6043.1045\n",
      "4880.959\n",
      "4862.276\n",
      "6046.5703\n"
     ]
    },
    {
     "ename": "KeyError",
     "evalue": "'z_0001'",
     "output_type": "error",
     "traceback": [
      "\u001b[0;31m---------------------------------------------------------------------------\u001b[0m",
      "\u001b[0;31mKeyError\u001b[0m                                  Traceback (most recent call last)",
      "\u001b[1;32m/private/var/git/bachelor/blocking/ukesm_data.ipynb Cell 4\u001b[0m line \u001b[0;36m3\n\u001b[1;32m      <a href='vscode-notebook-cell:/private/var/git/bachelor/blocking/ukesm_data.ipynb#W2sZmlsZQ%3D%3D?line=0'>1</a>\u001b[0m long \u001b[39m=\u001b[39m ukesm_data_full\u001b[39m.\u001b[39mvariables[\u001b[39m'\u001b[39m\u001b[39mlongitude\u001b[39m\u001b[39m'\u001b[39m][:]\n\u001b[1;32m      <a href='vscode-notebook-cell:/private/var/git/bachelor/blocking/ukesm_data.ipynb#W2sZmlsZQ%3D%3D?line=1'>2</a>\u001b[0m lat \u001b[39m=\u001b[39m ukesm_data_full\u001b[39m.\u001b[39mvariables[\u001b[39m'\u001b[39m\u001b[39mlatitude\u001b[39m\u001b[39m'\u001b[39m][:]\n\u001b[0;32m----> <a href='vscode-notebook-cell:/private/var/git/bachelor/blocking/ukesm_data.ipynb#W2sZmlsZQ%3D%3D?line=2'>3</a>\u001b[0m z_0001 \u001b[39m=\u001b[39m ukesm_data_full\u001b[39m.\u001b[39;49mvariables[\u001b[39m'\u001b[39;49m\u001b[39mz_0001\u001b[39;49m\u001b[39m'\u001b[39;49m][\u001b[39m0\u001b[39m]\n\u001b[1;32m      <a href='vscode-notebook-cell:/private/var/git/bachelor/blocking/ukesm_data.ipynb#W2sZmlsZQ%3D%3D?line=3'>4</a>\u001b[0m \u001b[39mimport\u001b[39;00m \u001b[39mdatetime\u001b[39;00m\n\u001b[1;32m      <a href='vscode-notebook-cell:/private/var/git/bachelor/blocking/ukesm_data.ipynb#W2sZmlsZQ%3D%3D?line=4'>5</a>\u001b[0m datetime\u001b[39m.\u001b[39mdatetime\u001b[39m.\u001b[39mfr\n",
      "\u001b[0;31mKeyError\u001b[0m: 'z_0001'"
     ]
    }
   ],
   "source": [
    "long = ukesm_data_full.variables['longitude'][:]\n",
    "lat = ukesm_data_full.variables['latitude'][:]\n",
    "z_0001 = ukesm_data_full.variables['z_0001'][0]\n",
    "import datetime\n",
    "datetime.datetime.fr\n",
    "# Set the figure size, projection, and extent\n",
    "# fig = plt.figure(figsize=(12, 12))\n",
    "fig = plt.figure(figsize=(6, 6))\n",
    "ax = plt.axes(projection=ccrs.PlateCarree())\n",
    "ax.set_extent([-180, 180, 20, 90], crs=ccrs.PlateCarree())\n",
    "ax.coastlines(resolution=\"110m\",linewidth=1)\n",
    "ax.gridlines(linestyle='--',color='black')\n",
    "\n",
    "plt.contourf(long, lat, z_0001, transform=ccrs.PlateCarree(),cmap=plt.cm.jet)\n",
    "plt.title('Simulated Blocking Data', size=14)\n",
    "cb = plt.colorbar(ax=ax, orientation=\"horizontal\", pad=0.02, aspect=16, shrink=0.8)\n",
    "cb.set_label('GEO',size=12,rotation=0,labelpad=15)\n",
    "cb.ax.tick_params(labelsize=10)"
   ]
  }
 ],
 "metadata": {
  "kernelspec": {
   "display_name": ".venv",
   "language": "python",
   "name": "python3"
  },
  "language_info": {
   "codemirror_mode": {
    "name": "ipython",
    "version": 3
   },
   "file_extension": ".py",
   "mimetype": "text/x-python",
   "name": "python",
   "nbconvert_exporter": "python",
   "pygments_lexer": "ipython3",
   "version": "3.10.13"
  }
 },
 "nbformat": 4,
 "nbformat_minor": 2
}
