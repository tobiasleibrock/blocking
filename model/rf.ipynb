{
 "cells": [
  {
   "cell_type": "code",
   "execution_count": 2,
   "id": "2530d817-6ae5-4887-9bfe-7d57f1d769eb",
   "metadata": {},
   "outputs": [],
   "source": [
    "import netCDF4\n",
    "import torch\n",
    "import torch.nn as nn\n",
    "import torch.optim as optim\n",
    "import torchvision\n",
    "from netCDF4 import Dataset as netCDFDataset\n",
    "from sklearn.ensemble import RandomForestClassifier\n",
    "from sklearn.metrics import f1_score\n",
    "from sklearn.model_selection import GridSearchCV, KFold, train_test_split\n",
    "import pandas as pd"
   ]
  },
  {
   "cell_type": "code",
   "execution_count": 13,
   "id": "36503834-4ba1-4ce6-a01d-f8a2ea3fede6",
   "metadata": {},
   "outputs": [
    {
     "name": "stdout",
     "output_type": "stream",
     "text": [
      "train_data: (3616, 5, 45, 100)\n",
      "val_data: (402, 5, 45, 100)\n",
      "train_data_flat: (3616, 22500)\n",
      "val_data_flat: (402, 22500)\n"
     ]
    }
   ],
   "source": [
    "labels = netCDFDataset(\"../data/labels/GTD_1979-2019_JJAextd_8.nc\", mode=\"r\").variables[\n",
    "    \"blocking\"\n",
    "][:]\n",
    "data = netCDFDataset(\n",
    "    \"../data/geopotential_height_500hPa_era5_6hourly_z0001_daymean_2019_beginAdjust_1x1_final.nc\",\n",
    "    mode=\"r\",\n",
    ").variables[\"z_0001\"][:]\n",
    "\n",
    "# Split the dataset into training and validation sets\n",
    "train_data, val_data, train_labels, val_labels = train_test_split(\n",
    "    data, labels, test_size=0.1\n",
    ")\n",
    "\n",
    "# Reshape the input data to be flattened\n",
    "train_data_flat = train_data.reshape(\n",
    "    len(train_data), int(train_data.size / len(train_data))\n",
    ")\n",
    "val_data_flat = val_data.reshape(len(val_data), int(val_data.size / len(val_data)))\n",
    "\n",
    "print(\"train_data: \" + str(train_data.shape))\n",
    "print(\"val_data: \" + str(val_data.shape))\n",
    "\n",
    "print(\"train_data_flat: \" + str(train_data_flat.shape))\n",
    "print(\"val_data_flat: \" + str(val_data_flat.shape))"
   ]
  },
  {
   "cell_type": "code",
   "execution_count": 3,
   "id": "ee942127-c044-40f0-b768-c7cc16ab9d57",
   "metadata": {},
   "outputs": [
    {
     "name": "stdout",
     "output_type": "stream",
     "text": [
      "train_data: (8908, 5, 45, 100)\n",
      "val_data: (990, 5, 45, 100)\n",
      "train_data_flat: (8908, 22500)\n",
      "val_data_flat: (990, 22500)\n"
     ]
    }
   ],
   "source": [
    "ukesm_labels = netCDFDataset(\"../data/labels/GTD_UKESM1-0-LL_piControl_1960-2060_JJAextd.nc\", mode=\"r\").variables[\n",
    "    \"blocking\"\n",
    "][:]\n",
    "ukesm_data = netCDFDataset(\n",
    "    \"../data/500zg_day_UKESM1-0-LL_piControl_r1i1p1f2_gn_19600101-20601230_NHML_JJAextd.nc_1x1_final.nc\",\n",
    "    mode=\"r\",\n",
    ").variables[\"z_0001\"][:]\n",
    "\n",
    "# Split the dataset into training and validation sets\n",
    "ukesm_train_data, ukesm_val_data, ukesm_train_labels, ukesm_val_labels = train_test_split(\n",
    "    ukesm_data, ukesm_labels, test_size=0.1\n",
    ")\n",
    "\n",
    "# Reshape the input data to be flattened\n",
    "ukesm_train_data_flat = ukesm_train_data.reshape(\n",
    "    len(ukesm_train_data), int(ukesm_train_data.size / len(ukesm_train_data))\n",
    ")\n",
    "ukesm_val_data_flat = ukesm_val_data.reshape(len(ukesm_val_data), int(ukesm_val_data.size / len(ukesm_val_data)))\n",
    "\n",
    "print(\"train_data: \" + str(ukesm_train_data.shape))\n",
    "print(\"val_data: \" + str(ukesm_val_data.shape))\n",
    "\n",
    "print(\"train_data_flat: \" + str(ukesm_train_data_flat.shape))\n",
    "print(\"val_data_flat: \" + str(ukesm_val_data_flat.shape))"
   ]
  },
  {
   "cell_type": "code",
   "execution_count": 6,
   "id": "c4ba6d81-c56b-4a22-9d4f-1b898218470a",
   "metadata": {},
   "outputs": [],
   "source": [
    "rf = RandomForestClassifier(verbose=1)\n",
    "\n",
    "param_grid = {\n",
    "    \"n_estimators\": [100, 200],\n",
    "    \"max_depth\": [None],\n",
    "    \"min_samples_split\": [2, 5],\n",
    "    \"min_samples_leaf\": [1, 2, 4],\n",
    "    \"bootstrap\": [True],\n",
    "    \"max_features\": [\"log2\"],\n",
    "}\n",
    "\n",
    "rf_classifier = RandomForestClassifier()\n",
    "\n",
    "grid_search = GridSearchCV(\n",
    "    estimator=rf_classifier, param_grid=param_grid, cv=5, scoring=[\"f1\", \"precision\", \"recall\"], refit=\"f1\", n_jobs=-1\n",
    ")"
   ]
  },
  {
   "cell_type": "code",
   "execution_count": 16,
   "id": "77000721-89b1-4810-95a1-070a733163d9",
   "metadata": {},
   "outputs": [
    {
     "name": "stdout",
     "output_type": "stream",
     "text": [
      "training model (era5)\n",
      "training finished\n"
     ]
    }
   ],
   "source": [
    "print(\"training model (era5)\")\n",
    "grid_search.fit(train_data_flat, train_labels)\n",
    "print(\"training finished\")"
   ]
  },
  {
   "cell_type": "code",
   "execution_count": 17,
   "id": "3e0114f8-8251-4222-b492-16cd02b66f4b",
   "metadata": {},
   "outputs": [
    {
     "name": "stdout",
     "output_type": "stream",
     "text": [
      "era5 score: 0.8339483394833948\n",
      "ukesm score: 0.7640845070422536\n"
     ]
    }
   ],
   "source": [
    "ukesm_val_predictions = grid_search.predict(ukesm_val_data_flat)\n",
    "val_predictions = grid_search.predict(val_data_flat)\n",
    "print(\"era5 score: \" + str(f1_score(val_labels, val_predictions)))\n",
    "print(\"ukesm score: \" + str(f1_score(ukesm_val_labels, ukesm_val_predictions)))"
   ]
  },
  {
   "cell_type": "code",
   "execution_count": 9,
   "id": "ab0cc757-d24b-4398-9dc0-d96677f76f1d",
   "metadata": {},
   "outputs": [],
   "source": [
    "# Access grid search results\n",
    "results_df = pd.DataFrame(grid_search.cv_results_)\n",
    "\n",
    "# Save results to a CSV file\n",
    "results_df.to_csv('grid_search_results.csv', index=False)"
   ]
  },
  {
   "cell_type": "code",
   "execution_count": null,
   "id": "61894f0c-8578-43af-977b-bb12bbf53960",
   "metadata": {},
   "outputs": [],
   "source": []
  }
 ],
 "metadata": {
  "kernelspec": {
   "display_name": "blocking",
   "language": "python",
   "name": "blocking"
  },
  "language_info": {
   "codemirror_mode": {
    "name": "ipython",
    "version": 3
   },
   "file_extension": ".py",
   "mimetype": "text/x-python",
   "name": "python",
   "nbconvert_exporter": "python",
   "pygments_lexer": "ipython3",
   "version": "3.9.7"
  }
 },
 "nbformat": 4,
 "nbformat_minor": 5
}
