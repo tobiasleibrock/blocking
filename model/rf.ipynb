{
 "cells": [
  {
   "cell_type": "code",
   "execution_count": 1,
   "id": "2530d817-6ae5-4887-9bfe-7d57f1d769eb",
   "metadata": {},
   "outputs": [],
   "source": [
    "import netCDF4\n",
    "import torch\n",
    "import torch.nn as nn\n",
    "import torch.optim as optim\n",
    "import torchvision\n",
    "from netCDF4 import Dataset as netCDFDataset\n",
    "from sklearn.ensemble import RandomForestClassifier\n",
    "from sklearn.metrics import f1_score\n",
    "from sklearn.model_selection import GridSearchCV, KFold, train_test_split\n",
    "import pandas as pd"
   ]
  },
  {
   "cell_type": "code",
   "execution_count": 3,
   "id": "36503834-4ba1-4ce6-a01d-f8a2ea3fede6",
   "metadata": {},
   "outputs": [
    {
     "name": "stdout",
     "output_type": "stream",
     "text": [
      "train_data: (3616, 5, 281, 400)\n",
      "val_data: (402, 5, 281, 400)\n",
      "train_data_flat: (3616, 562000)\n",
      "val_data_flat: (402, 562000)\n"
     ]
    }
   ],
   "source": [
    "labels = netCDFDataset(\"../data/labels/GTD_1979-2019_JJAextd_8.nc\", mode=\"r\").variables[\n",
    "    \"blocking\"\n",
    "][:]\n",
    "data = netCDFDataset(\n",
    "    \"../data/geopotential_height_500hPa_era5_6hourly_z0001_daymean_final.nc\",\n",
    "    mode=\"r\",\n",
    ").variables[\"z_0001\"][:, :, :, 550:950]\n",
    "\n",
    "# Split the dataset into training and validation sets\n",
    "train_data, val_data, train_labels, val_labels = train_test_split(\n",
    "    data, labels, test_size=0.1\n",
    ")\n",
    "\n",
    "# Reshape the input data to be flattened\n",
    "train_data_flat = train_data.reshape(\n",
    "    len(train_data), int(train_data.size / len(train_data))\n",
    ")\n",
    "val_data_flat = val_data.reshape(len(val_data), int(val_data.size / len(val_data)))\n",
    "\n",
    "print(\"train_data: \" + str(train_data.shape))\n",
    "print(\"val_data: \" + str(val_data.shape))\n",
    "\n",
    "print(\"train_data_flat: \" + str(train_data_flat.shape))\n",
    "print(\"val_data_flat: \" + str(val_data_flat.shape))"
   ]
  },
  {
   "cell_type": "code",
   "execution_count": 4,
   "id": "c4ba6d81-c56b-4a22-9d4f-1b898218470a",
   "metadata": {},
   "outputs": [],
   "source": [
    "rf = RandomForestClassifier(verbose=1)\n",
    "\n",
    "param_grid = {\n",
    "    \"n_estimators\": [100, 200],\n",
    "    \"max_depth\": [None],\n",
    "    \"min_samples_split\": [2, 5],\n",
    "    \"min_samples_leaf\": [1, 2, 4],\n",
    "    \"bootstrap\": [True],\n",
    "    \"max_features\": [\"log2\"],\n",
    "    #\"max_features\": [\"sqrt\", \"log2\"],\n",
    "}\n",
    "\n",
    "rf_classifier = RandomForestClassifier()\n",
    "\n",
    "grid_search = GridSearchCV(\n",
    "    estimator=rf_classifier, param_grid=param_grid, cv=5, scoring=\"f1\", n_jobs=-1\n",
    ")"
   ]
  },
  {
   "cell_type": "code",
   "execution_count": null,
   "id": "77000721-89b1-4810-95a1-070a733163d9",
   "metadata": {},
   "outputs": [
    {
     "name": "stdout",
     "output_type": "stream",
     "text": [
      "training model\n"
     ]
    }
   ],
   "source": [
    "print(\"training model\")\n",
    "grid_search.fit(train_data_flat, train_labels)\n",
    "print(\"training finished\")"
   ]
  },
  {
   "cell_type": "code",
   "execution_count": 7,
   "id": "3e0114f8-8251-4222-b492-16cd02b66f4b",
   "metadata": {},
   "outputs": [
    {
     "name": "stdout",
     "output_type": "stream",
     "text": [
      "0.8408163265306122\n"
     ]
    }
   ],
   "source": [
    "val_predictions = grid_search.predict(val_data_flat)\n",
    "print(f1_score(val_labels, val_predictions))"
   ]
  },
  {
   "cell_type": "code",
   "execution_count": 8,
   "id": "ab0cc757-d24b-4398-9dc0-d96677f76f1d",
   "metadata": {},
   "outputs": [],
   "source": [
    "# Access grid search results\n",
    "results_df = pd.DataFrame(grid_search.cv_results_)\n",
    "\n",
    "# Save results to a CSV file\n",
    "results_df.to_csv('grid_search_results.csv', index=False)"
   ]
  }
 ],
 "metadata": {
  "kernelspec": {
   "display_name": "blocking",
   "language": "python",
   "name": "blocking"
  },
  "language_info": {
   "codemirror_mode": {
    "name": "ipython",
    "version": 3
   },
   "file_extension": ".py",
   "mimetype": "text/x-python",
   "name": "python",
   "nbconvert_exporter": "python",
   "pygments_lexer": "ipython3",
   "version": "3.9.7"
  }
 },
 "nbformat": 4,
 "nbformat_minor": 5
}
