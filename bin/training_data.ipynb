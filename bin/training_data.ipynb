{
 "cells": [
  {
   "cell_type": "code",
   "execution_count": 6,
   "metadata": {},
   "outputs": [],
   "source": [
    "from netCDF4 import Dataset\n",
    "import netCDF4\n",
    "import matplotlib.pyplot as plt\n",
    "import cartopy.crs as ccrs\n",
    "import numpy as np\n",
    "from datetime import datetime, timezone\n",
    "import nc_time_axis\n",
    "\n",
    "atmos_epoch = datetime(1900, 1, 1, 0, 0, tzinfo=timezone.utc)"
   ]
  },
  {
   "cell_type": "code",
   "execution_count": 7,
   "metadata": {},
   "outputs": [],
   "source": [
    "observational_geopotential = Dataset('../data/geopotential_height_500hPa_era5_6hourly_z0001_daymean_2019_beginAdjust.nc', mode='r')\n",
    "\n",
    "observational_labels = Dataset('../data/labels/GTD_1979-2019_JJAextd_8.nc', mode='r')"
   ]
  },
  {
   "cell_type": "code",
   "execution_count": 8,
   "metadata": {},
   "outputs": [],
   "source": [
    "long = observational_geopotential.variables['longitude']\n",
    "lat = observational_geopotential.variables['latitude']\n",
    "zg = observational_geopotential.variables['z_0001']\n",
    "time_raw = observational_geopotential.variables[\"time\"]\n",
    "time = netCDF4.num2date(time_raw[:], time_raw.units, time_raw.calendar)"
   ]
  },
  {
   "cell_type": "code",
   "execution_count": 9,
   "metadata": {},
   "outputs": [
    {
     "name": "stdout",
     "output_type": "stream",
     "text": [
      "(4018, 281, 1440)\n"
     ]
    }
   ],
   "source": [
    "mean_mask = np.array(np.zeros((98, len(lat), len(long))))\n",
    "zg_mean = np.array(np.zeros((len(time), len(lat), len(long))))\n",
    "\n",
    "years = int(len(time) / 98) # number of days per year\n",
    "\n",
    "for j in range(2):\n",
    "    offset = 98 * j\n",
    "    for i in range(98):\n",
    "        mean_mask[i] = np.mean([zg[offset + i], zg[offset + 98 + i], zg[offset + 98 * 2 + i], zg[offset + 98 * 3 + i], zg[offset + 98 * 4 + i]])\n",
    "        zg_mean[offset + i] = np.subtract(zg[offset + i], mean_mask[i])\n",
    "\n",
    "for j in range(2, years-2):\n",
    "    offset = 98 * j\n",
    "    for i in range(98):\n",
    "        mean_mask[i] = np.mean([zg[offset + i], zg[offset - 98 + i], zg[offset - 98 * 2 + i], zg[offset + 98 + i], zg[offset + 98 * 2 + i]])\n",
    "        zg_mean[offset + i] = np.subtract(zg[offset + i], mean_mask[i])\n",
    "\n",
    "for j in range(years-2, years):\n",
    "    offset = 98 * j\n",
    "    for i in range(98):\n",
    "        if (offset + i >= len(time)): break\n",
    "        mean_mask[i] = np.mean([zg[offset + i], zg[offset - 98 + i], zg[offset - 98 * 2 + i], zg[offset - 98 * 3 + i], zg[offset - 98 * 4 + i]])\n",
    "        zg_mean[offset + i] = np.subtract(zg[offset + i], mean_mask[i])\n",
    "\n",
    "print(zg_mean.shape)"
   ]
  },
  {
   "cell_type": "code",
   "execution_count": 10,
   "metadata": {},
   "outputs": [
    {
     "name": "stdout",
     "output_type": "stream",
     "text": [
      "working on 0 of 4018\n",
      "working on 50 of 4018\n",
      "working on 100 of 4018\n",
      "working on 150 of 4018\n",
      "working on 200 of 4018\n",
      "working on 250 of 4018\n",
      "working on 300 of 4018\n",
      "working on 350 of 4018\n",
      "working on 400 of 4018\n",
      "working on 450 of 4018\n",
      "working on 500 of 4018\n",
      "working on 550 of 4018\n",
      "working on 600 of 4018\n",
      "working on 650 of 4018\n",
      "working on 700 of 4018\n",
      "working on 750 of 4018\n",
      "working on 800 of 4018\n",
      "working on 850 of 4018\n",
      "working on 900 of 4018\n",
      "working on 950 of 4018\n",
      "working on 1000 of 4018\n",
      "working on 1050 of 4018\n",
      "working on 1100 of 4018\n",
      "working on 1150 of 4018\n",
      "working on 1200 of 4018\n",
      "working on 1250 of 4018\n",
      "working on 1300 of 4018\n",
      "working on 1350 of 4018\n",
      "working on 1400 of 4018\n",
      "working on 1450 of 4018\n",
      "working on 1500 of 4018\n",
      "working on 1550 of 4018\n",
      "working on 1600 of 4018\n",
      "working on 1650 of 4018\n",
      "working on 1700 of 4018\n",
      "working on 1750 of 4018\n",
      "working on 1800 of 4018\n",
      "working on 1850 of 4018\n",
      "working on 1900 of 4018\n",
      "working on 1950 of 4018\n",
      "working on 2000 of 4018\n",
      "working on 2050 of 4018\n",
      "working on 2100 of 4018\n",
      "working on 2150 of 4018\n",
      "working on 2200 of 4018\n",
      "working on 2250 of 4018\n",
      "working on 2300 of 4018\n",
      "working on 2350 of 4018\n",
      "working on 2400 of 4018\n",
      "working on 2450 of 4018\n",
      "working on 2500 of 4018\n",
      "working on 2550 of 4018\n",
      "working on 2600 of 4018\n",
      "working on 2650 of 4018\n",
      "working on 2700 of 4018\n",
      "working on 2750 of 4018\n",
      "working on 2800 of 4018\n",
      "working on 2850 of 4018\n",
      "working on 2900 of 4018\n",
      "working on 2950 of 4018\n",
      "working on 3000 of 4018\n",
      "working on 3050 of 4018\n",
      "working on 3100 of 4018\n",
      "working on 3150 of 4018\n",
      "working on 3200 of 4018\n",
      "working on 3250 of 4018\n",
      "working on 3300 of 4018\n",
      "working on 3350 of 4018\n",
      "working on 3400 of 4018\n",
      "working on 3450 of 4018\n",
      "working on 3500 of 4018\n",
      "working on 3550 of 4018\n",
      "working on 3600 of 4018\n",
      "working on 3650 of 4018\n",
      "working on 3700 of 4018\n",
      "working on 3750 of 4018\n",
      "working on 3800 of 4018\n",
      "working on 3850 of 4018\n",
      "working on 3900 of 4018\n",
      "working on 3950 of 4018\n",
      "working on 4000 of 4018\n",
      "(4018, 5, 281, 1440)\n"
     ]
    }
   ],
   "source": [
    "import os\n",
    "\n",
    "try:\n",
    "    os.remove('../data/geopotential_height_500hPa_era5_6hourly_z0001_daymean_final.nc')\n",
    "except:\n",
    "    pass\n",
    "\n",
    "ncfile = Dataset('../data/geopotential_height_500hPa_era5_6hourly_z0001_daymean_final.nc', mode='w', format='NETCDF4')\n",
    "\n",
    "ncfile.set_fill_off()\n",
    "\n",
    "ncfile.createDimension(\"time\", None)\n",
    "ncfile.createDimension(\"longitude\", 1440)\n",
    "ncfile.createDimension(\"latitude\", 281)\n",
    "ncfile.createDimension(\"day_range\", 5)\n",
    "\n",
    "variable = ncfile.createVariable(\"time\", \"i4\", (\"time\",))\n",
    "variable.setncatts({k: observational_geopotential.variables[\"time\"].getncattr(k) for k in observational_geopotential.variables[\"time\"].ncattrs()})\n",
    "ncfile.createVariable(\"day_range\", \"i4\", (\"day_range\",))\n",
    "variable = ncfile.createVariable(\"longitude\", \"f4\", (\"longitude\",))\n",
    "variable.setncatts({k: observational_geopotential.variables[\"longitude\"].getncattr(k) for k in observational_geopotential.variables[\"longitude\"].ncattrs()})\n",
    "variable = ncfile.createVariable(\"latitude\", \"f4\", (\"latitude\",))\n",
    "variable.setncatts({k: observational_geopotential.variables[\"latitude\"].getncattr(k) for k in observational_geopotential.variables[\"latitude\"].ncattrs()})\n",
    "variable = ncfile.createVariable(\"z_0001\", \"f4\", (\"time\", \"day_range\", \"latitude\", \"longitude\"))\n",
    "# variable.setncatts({k: observational_geopotential.variables[\"z_0001\"].getncattr(k) for k in observational_geopotential.variables[\"z_0001\"].ncattrs()})\n",
    "\n",
    "result = np.zeros((len(time), 5, len(lat), len(long)))\n",
    "\n",
    "temp_zg = zg_mean\n",
    "for i in range(len(time)):\n",
    "    if (i % 50 == 0): print(\"working on \" + str(i) + \" of \" + str(len(time)))\n",
    "    if len(temp_zg) < 5:\n",
    "        ncfile.variables[\"z_0001\"][i] = np.array([temp_zg[0], temp_zg[0], temp_zg[0], temp_zg[0], temp_zg[0]])\n",
    "    else:\n",
    "        ncfile.variables[\"z_0001\"][i] = np.array([temp_zg[0], temp_zg[0 + 1], temp_zg[0 + 2], temp_zg[0 + 3], temp_zg[0 + 4]])\n",
    "    temp_zg = temp_zg[1:]\n",
    "print(result.shape)\n",
    "\n",
    "ncfile.variables[\"time\"][:] = time_raw[:]\n",
    "ncfile.variables[\"longitude\"][:] = long[:]\n",
    "ncfile.variables[\"latitude\"][:] = lat[:]\n",
    "ncfile.variables[\"day_range\"][:] = [0, 1, 2, 3, 4]\n",
    "\n",
    "ncfile.close()"
   ]
  },
  {
   "cell_type": "code",
   "execution_count": 8,
   "metadata": {},
   "outputs": [
    {
     "ename": "AttributeError",
     "evalue": "NetCDF: Attribute not found",
     "output_type": "error",
     "traceback": [
      "\u001b[0;31m---------------------------------------------------------------------------\u001b[0m",
      "\u001b[0;31mAttributeError\u001b[0m                            Traceback (most recent call last)",
      "Cell \u001b[0;32mIn[8], line 5\u001b[0m\n\u001b[1;32m      3\u001b[0m plt\u001b[38;5;241m.\u001b[39msubplot(\u001b[38;5;241m2\u001b[39m, \u001b[38;5;241m1\u001b[39m, \u001b[38;5;241m2\u001b[39m)\n\u001b[1;32m      4\u001b[0m plt\u001b[38;5;241m.\u001b[39mylabel(\u001b[38;5;124m\"\u001b[39m\u001b[38;5;124mde-seasonalized data\u001b[39m\u001b[38;5;124m\"\u001b[39m)\n\u001b[0;32m----> 5\u001b[0m time \u001b[38;5;241m=\u001b[39m netCDF4\u001b[38;5;241m.\u001b[39mnum2date(data\u001b[38;5;241m.\u001b[39mvariables[\u001b[38;5;124m\"\u001b[39m\u001b[38;5;124mtime\u001b[39m\u001b[38;5;124m\"\u001b[39m][:], \u001b[43mdata\u001b[49m\u001b[38;5;241;43m.\u001b[39;49m\u001b[43mvariables\u001b[49m\u001b[43m[\u001b[49m\u001b[38;5;124;43m\"\u001b[39;49m\u001b[38;5;124;43mtime\u001b[39;49m\u001b[38;5;124;43m\"\u001b[39;49m\u001b[43m]\u001b[49m\u001b[38;5;241;43m.\u001b[39;49m\u001b[43munits\u001b[49m, data\u001b[38;5;241m.\u001b[39mvariables[\u001b[38;5;124m\"\u001b[39m\u001b[38;5;124mtime\u001b[39m\u001b[38;5;124m\"\u001b[39m]\u001b[38;5;241m.\u001b[39mcalendar)\n\u001b[1;32m      6\u001b[0m plt\u001b[38;5;241m.\u001b[39mplot(time[::\u001b[38;5;241m10\u001b[39m], np\u001b[38;5;241m.\u001b[39mmean(data\u001b[38;5;241m.\u001b[39mvariables[\u001b[38;5;124m\"\u001b[39m\u001b[38;5;124mz_0001\u001b[39m\u001b[38;5;124m\"\u001b[39m][::\u001b[38;5;241m10\u001b[39m], axis\u001b[38;5;241m=\u001b[39m(\u001b[38;5;241m1\u001b[39m, \u001b[38;5;241m2\u001b[39m)))\n\u001b[1;32m      7\u001b[0m plt\u001b[38;5;241m.\u001b[39mshow()\n",
      "File \u001b[0;32msrc/netCDF4/_netCDF4.pyx:4923\u001b[0m, in \u001b[0;36mnetCDF4._netCDF4.Variable.__getattr__\u001b[0;34m()\u001b[0m\n",
      "File \u001b[0;32msrc/netCDF4/_netCDF4.pyx:4645\u001b[0m, in \u001b[0;36mnetCDF4._netCDF4.Variable.getncattr\u001b[0;34m()\u001b[0m\n",
      "File \u001b[0;32msrc/netCDF4/_netCDF4.pyx:1544\u001b[0m, in \u001b[0;36mnetCDF4._netCDF4._get_att\u001b[0;34m()\u001b[0m\n",
      "File \u001b[0;32msrc/netCDF4/_netCDF4.pyx:2034\u001b[0m, in \u001b[0;36mnetCDF4._netCDF4._ensure_nc_success\u001b[0;34m()\u001b[0m\n",
      "\u001b[0;31mAttributeError\u001b[0m: NetCDF: Attribute not found"
     ]
    },
    {
     "data": {
      "image/png": "[encoded data removed]",
      "text/plain": [
       "<Figure size 640x480 with 1 Axes>"
      ]
     },
     "metadata": {},
     "output_type": "display_data"
    }
   ],
   "source": [
    "data = Dataset('../data/geopotential_height_500hPa_era5_6hourly_z0001_daymean_final.nc', mode='r')\n",
    "\n",
    "plt.subplot(2, 1, 2)\n",
    "plt.ylabel(\"de-seasonalized data\")\n",
    "time = netCDF4.num2date(data.variables[\"time\"][:], data.variables[\"time\"].units, data.variables[\"time\"].calendar)\n",
    "plt.plot(time[::10], np.mean(data.variables[\"z_0001\"][::10], axis=(1, 2)))\n",
    "plt.show()"
   ]
  }
 ],
 "metadata": {
  "kernelspec": {
   "display_name": "blocking",
   "language": "python",
   "name": "blocking"
  },
  "language_info": {
   "codemirror_mode": {
    "name": "ipython",
    "version": 3
   },
   "file_extension": ".py",
   "mimetype": "text/x-python",
   "name": "python",
   "nbconvert_exporter": "python",
   "pygments_lexer": "ipython3",
   "version": "3.9.7"
  }
 },
 "nbformat": 4,
 "nbformat_minor": 4
}
